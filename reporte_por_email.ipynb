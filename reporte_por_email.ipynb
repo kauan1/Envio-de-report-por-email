{
 "cells": [
  {
   "cell_type": "markdown",
   "metadata": {
    "id": "H3kSvel68Ua8"
   },
   "source": [
    "## Passo 1 - Instalar e importar os módulos e bibliotecas"
   ]
  },
  {
   "cell_type": "code",
   "execution_count": 1,
   "metadata": {
    "colab": {
     "base_uri": "https://localhost:8080/"
    },
    "executionInfo": {
     "elapsed": 3769,
     "status": "ok",
     "timestamp": 1725888605860,
     "user": {
      "displayName": "Kauan Siuva",
      "userId": "10381737464008352044"
     },
     "user_tz": 180
    },
    "id": "6L0EJjuq-bb8",
    "outputId": "94ef1bc9-c5b5-4079-b111-2230668e783d"
   },
   "outputs": [
    {
     "name": "stdout",
     "output_type": "stream",
     "text": [
      "Defaulting to user installation because normal site-packages is not writeable\n",
      "Requirement already satisfied: mplcyberpunk in c:\\users\\nauak\\appdata\\roaming\\python\\python310\\site-packages (0.7.1)\n",
      "Requirement already satisfied: matplotlib in c:\\programdata\\anaconda3\\lib\\site-packages (from mplcyberpunk) (3.7.0)\n",
      "Requirement already satisfied: contourpy>=1.0.1 in c:\\programdata\\anaconda3\\lib\\site-packages (from matplotlib->mplcyberpunk) (1.0.5)\n",
      "Requirement already satisfied: cycler>=0.10 in c:\\programdata\\anaconda3\\lib\\site-packages (from matplotlib->mplcyberpunk) (0.11.0)\n",
      "Requirement already satisfied: python-dateutil>=2.7 in c:\\programdata\\anaconda3\\lib\\site-packages (from matplotlib->mplcyberpunk) (2.8.2)\n",
      "Requirement already satisfied: pyparsing>=2.3.1 in c:\\programdata\\anaconda3\\lib\\site-packages (from matplotlib->mplcyberpunk) (3.0.9)\n",
      "Requirement already satisfied: kiwisolver>=1.0.1 in c:\\programdata\\anaconda3\\lib\\site-packages (from matplotlib->mplcyberpunk) (1.4.4)\n",
      "Requirement already satisfied: pillow>=6.2.0 in c:\\programdata\\anaconda3\\lib\\site-packages (from matplotlib->mplcyberpunk) (9.4.0)\n",
      "Requirement already satisfied: numpy>=1.20 in c:\\programdata\\anaconda3\\lib\\site-packages (from matplotlib->mplcyberpunk) (1.23.5)\n",
      "Requirement already satisfied: fonttools>=4.22.0 in c:\\programdata\\anaconda3\\lib\\site-packages (from matplotlib->mplcyberpunk) (4.25.0)\n",
      "Requirement already satisfied: packaging>=20.0 in c:\\programdata\\anaconda3\\lib\\site-packages (from matplotlib->mplcyberpunk) (22.0)\n",
      "Requirement already satisfied: six>=1.5 in c:\\programdata\\anaconda3\\lib\\site-packages (from python-dateutil>=2.7->matplotlib->mplcyberpunk) (1.16.0)\n"
     ]
    }
   ],
   "source": [
    "!pip install mplcyberpunk"
   ]
  },
  {
   "cell_type": "code",
   "execution_count": 2,
   "metadata": {
    "colab": {
     "base_uri": "https://localhost:8080/"
    },
    "executionInfo": {
     "elapsed": 3023,
     "status": "ok",
     "timestamp": 1725893166835,
     "user": {
      "displayName": "Kauan Siuva",
      "userId": "10381737464008352044"
     },
     "user_tz": 180
    },
    "id": "FmWdcNG6P0dD",
    "outputId": "fe1b1ff4-7283-4c45-e91b-7d81e035692d"
   },
   "outputs": [
    {
     "name": "stdout",
     "output_type": "stream",
     "text": [
      "Defaulting to user installation because normal site-packages is not writeable\n",
      "Requirement already satisfied: yfinance in c:\\users\\nauak\\appdata\\roaming\\python\\python310\\site-packages (0.2.43)\n",
      "Requirement already satisfied: frozendict>=2.3.4 in c:\\users\\nauak\\appdata\\roaming\\python\\python310\\site-packages (from yfinance) (2.4.4)\n",
      "Requirement already satisfied: numpy>=1.16.5 in c:\\programdata\\anaconda3\\lib\\site-packages (from yfinance) (1.23.5)\n",
      "Requirement already satisfied: html5lib>=1.1 in c:\\users\\nauak\\appdata\\roaming\\python\\python310\\site-packages (from yfinance) (1.1)\n",
      "Requirement already satisfied: multitasking>=0.0.7 in c:\\users\\nauak\\appdata\\roaming\\python\\python310\\site-packages (from yfinance) (0.0.11)\n",
      "Requirement already satisfied: requests>=2.31 in c:\\users\\nauak\\appdata\\roaming\\python\\python310\\site-packages (from yfinance) (2.32.3)\n",
      "Requirement already satisfied: platformdirs>=2.0.0 in c:\\programdata\\anaconda3\\lib\\site-packages (from yfinance) (2.5.2)\n",
      "Requirement already satisfied: lxml>=4.9.1 in c:\\programdata\\anaconda3\\lib\\site-packages (from yfinance) (4.9.1)\n",
      "Requirement already satisfied: pandas>=1.3.0 in c:\\programdata\\anaconda3\\lib\\site-packages (from yfinance) (1.5.3)\n",
      "Requirement already satisfied: pytz>=2022.5 in c:\\programdata\\anaconda3\\lib\\site-packages (from yfinance) (2022.7)\n",
      "Requirement already satisfied: beautifulsoup4>=4.11.1 in c:\\programdata\\anaconda3\\lib\\site-packages (from yfinance) (4.11.1)\n",
      "Requirement already satisfied: peewee>=3.16.2 in c:\\users\\nauak\\appdata\\roaming\\python\\python310\\site-packages (from yfinance) (3.17.6)\n",
      "Requirement already satisfied: soupsieve>1.2 in c:\\programdata\\anaconda3\\lib\\site-packages (from beautifulsoup4>=4.11.1->yfinance) (2.3.2.post1)\n",
      "Requirement already satisfied: webencodings in c:\\programdata\\anaconda3\\lib\\site-packages (from html5lib>=1.1->yfinance) (0.5.1)\n",
      "Requirement already satisfied: six>=1.9 in c:\\programdata\\anaconda3\\lib\\site-packages (from html5lib>=1.1->yfinance) (1.16.0)\n",
      "Requirement already satisfied: python-dateutil>=2.8.1 in c:\\programdata\\anaconda3\\lib\\site-packages (from pandas>=1.3.0->yfinance) (2.8.2)\n",
      "Requirement already satisfied: charset-normalizer<4,>=2 in c:\\programdata\\anaconda3\\lib\\site-packages (from requests>=2.31->yfinance) (2.0.4)\n",
      "Requirement already satisfied: idna<4,>=2.5 in c:\\programdata\\anaconda3\\lib\\site-packages (from requests>=2.31->yfinance) (3.4)\n",
      "Requirement already satisfied: urllib3<3,>=1.21.1 in c:\\programdata\\anaconda3\\lib\\site-packages (from requests>=2.31->yfinance) (1.26.14)\n",
      "Requirement already satisfied: certifi>=2017.4.17 in c:\\users\\nauak\\appdata\\roaming\\python\\python310\\site-packages (from requests>=2.31->yfinance) (2024.8.30)\n"
     ]
    }
   ],
   "source": [
    "!pip install yfinance"
   ]
  },
  {
   "cell_type": "code",
   "execution_count": 3,
   "metadata": {
    "executionInfo": {
     "elapsed": 984,
     "status": "ok",
     "timestamp": 1725893445825,
     "user": {
      "displayName": "Kauan Siuva",
      "userId": "10381737464008352044"
     },
     "user_tz": 180
    },
    "id": "ozEWqKvo7xSR"
   },
   "outputs": [],
   "source": [
    "import pandas as pd\n",
    "import matplotlib.pyplot as plt\n",
    "import yfinance as yf\n",
    "import mplcyberpunk"
   ]
  },
  {
   "cell_type": "markdown",
   "metadata": {
    "id": "0zH91w9A9HRR"
   },
   "source": [
    "##Passo 2 - Pegar as cotações históricas"
   ]
  },
  {
   "cell_type": "code",
   "execution_count": 4,
   "metadata": {
    "colab": {
     "base_uri": "https://localhost:8080/",
     "height": 472
    },
    "executionInfo": {
     "elapsed": 621,
     "status": "ok",
     "timestamp": 1725895490110,
     "user": {
      "displayName": "Kauan Siuva",
      "userId": "10381737464008352044"
     },
     "user_tz": 180
    },
    "id": "BDsPZvlu9bfc",
    "outputId": "122b7ef3-dfb9-421e-f64d-eb15d06b9c9d",
    "scrolled": true
   },
   "outputs": [
    {
     "name": "stderr",
     "output_type": "stream",
     "text": [
      "[*********************100%***********************]  3 of 3 completed\n"
     ]
    },
    {
     "data": {
      "text/html": [
       "<div>\n",
       "<style scoped>\n",
       "    .dataframe tbody tr th:only-of-type {\n",
       "        vertical-align: middle;\n",
       "    }\n",
       "\n",
       "    .dataframe tbody tr th {\n",
       "        vertical-align: top;\n",
       "    }\n",
       "\n",
       "    .dataframe thead th {\n",
       "        text-align: right;\n",
       "    }\n",
       "</style>\n",
       "<table border=\"1\" class=\"dataframe\">\n",
       "  <thead>\n",
       "    <tr style=\"text-align: right;\">\n",
       "      <th>Ticker</th>\n",
       "      <th>BRL=X</th>\n",
       "      <th>^BVSP</th>\n",
       "      <th>^GSPC</th>\n",
       "    </tr>\n",
       "    <tr>\n",
       "      <th>Date</th>\n",
       "      <th></th>\n",
       "      <th></th>\n",
       "      <th></th>\n",
       "    </tr>\n",
       "  </thead>\n",
       "  <tbody>\n",
       "    <tr>\n",
       "      <th>2024-03-11 00:00:00+00:00</th>\n",
       "      <td>4.97754</td>\n",
       "      <td>126124.0000</td>\n",
       "      <td>5117.939941</td>\n",
       "    </tr>\n",
       "    <tr>\n",
       "      <th>2024-03-12 00:00:00+00:00</th>\n",
       "      <td>4.97740</td>\n",
       "      <td>127668.0000</td>\n",
       "      <td>5175.270020</td>\n",
       "    </tr>\n",
       "    <tr>\n",
       "      <th>2024-03-13 00:00:00+00:00</th>\n",
       "      <td>4.96870</td>\n",
       "      <td>128006.0000</td>\n",
       "      <td>5165.310059</td>\n",
       "    </tr>\n",
       "    <tr>\n",
       "      <th>2024-03-14 00:00:00+00:00</th>\n",
       "      <td>4.96920</td>\n",
       "      <td>127690.0000</td>\n",
       "      <td>5150.479980</td>\n",
       "    </tr>\n",
       "    <tr>\n",
       "      <th>2024-03-15 00:00:00+00:00</th>\n",
       "      <td>4.99270</td>\n",
       "      <td>126742.0000</td>\n",
       "      <td>5117.089844</td>\n",
       "    </tr>\n",
       "    <tr>\n",
       "      <th>...</th>\n",
       "      <td>...</td>\n",
       "      <td>...</td>\n",
       "      <td>...</td>\n",
       "    </tr>\n",
       "    <tr>\n",
       "      <th>2024-09-03 00:00:00+00:00</th>\n",
       "      <td>5.61510</td>\n",
       "      <td>134353.0000</td>\n",
       "      <td>5528.930176</td>\n",
       "    </tr>\n",
       "    <tr>\n",
       "      <th>2024-09-04 00:00:00+00:00</th>\n",
       "      <td>5.64750</td>\n",
       "      <td>136111.0000</td>\n",
       "      <td>5520.069824</td>\n",
       "    </tr>\n",
       "    <tr>\n",
       "      <th>2024-09-05 00:00:00+00:00</th>\n",
       "      <td>5.64200</td>\n",
       "      <td>136502.0000</td>\n",
       "      <td>5503.410156</td>\n",
       "    </tr>\n",
       "    <tr>\n",
       "      <th>2024-09-06 00:00:00+00:00</th>\n",
       "      <td>5.56750</td>\n",
       "      <td>134572.0000</td>\n",
       "      <td>5408.419922</td>\n",
       "    </tr>\n",
       "    <tr>\n",
       "      <th>2024-09-09 00:00:00+00:00</th>\n",
       "      <td>5.58870</td>\n",
       "      <td>134837.9375</td>\n",
       "      <td>5451.500000</td>\n",
       "    </tr>\n",
       "  </tbody>\n",
       "</table>\n",
       "<p>131 rows × 3 columns</p>\n",
       "</div>"
      ],
      "text/plain": [
       "Ticker                       BRL=X        ^BVSP        ^GSPC\n",
       "Date                                                        \n",
       "2024-03-11 00:00:00+00:00  4.97754  126124.0000  5117.939941\n",
       "2024-03-12 00:00:00+00:00  4.97740  127668.0000  5175.270020\n",
       "2024-03-13 00:00:00+00:00  4.96870  128006.0000  5165.310059\n",
       "2024-03-14 00:00:00+00:00  4.96920  127690.0000  5150.479980\n",
       "2024-03-15 00:00:00+00:00  4.99270  126742.0000  5117.089844\n",
       "...                            ...          ...          ...\n",
       "2024-09-03 00:00:00+00:00  5.61510  134353.0000  5528.930176\n",
       "2024-09-04 00:00:00+00:00  5.64750  136111.0000  5520.069824\n",
       "2024-09-05 00:00:00+00:00  5.64200  136502.0000  5503.410156\n",
       "2024-09-06 00:00:00+00:00  5.56750  134572.0000  5408.419922\n",
       "2024-09-09 00:00:00+00:00  5.58870  134837.9375  5451.500000\n",
       "\n",
       "[131 rows x 3 columns]"
      ]
     },
     "execution_count": 4,
     "metadata": {},
     "output_type": "execute_result"
    }
   ],
   "source": [
    "tickers = ['^BVSP', '^GSPC','BRL=X']\n",
    "dados_mercado = yf.download(tickers, period=\"6mo\")\n",
    "dados_mercado = dados_mercado[\"Adj Close\"]\n",
    "dados_mercado"
   ]
  },
  {
   "cell_type": "markdown",
   "metadata": {
    "id": "rmyR6FO39Ohk"
   },
   "source": [
    "##Passo 3 - Tratar os dados coletados"
   ]
  },
  {
   "cell_type": "code",
   "execution_count": 5,
   "metadata": {
    "colab": {
     "base_uri": "https://localhost:8080/",
     "height": 455
    },
    "executionInfo": {
     "elapsed": 304,
     "status": "ok",
     "timestamp": 1725895662983,
     "user": {
      "displayName": "Kauan Siuva",
      "userId": "10381737464008352044"
     },
     "user_tz": 180
    },
    "id": "7KYHtbIW9cOi",
    "outputId": "68b43e1f-2243-4942-dfd4-55d139c2a3bd"
   },
   "outputs": [
    {
     "data": {
      "text/html": [
       "<div>\n",
       "<style scoped>\n",
       "    .dataframe tbody tr th:only-of-type {\n",
       "        vertical-align: middle;\n",
       "    }\n",
       "\n",
       "    .dataframe tbody tr th {\n",
       "        vertical-align: top;\n",
       "    }\n",
       "\n",
       "    .dataframe thead th {\n",
       "        text-align: right;\n",
       "    }\n",
       "</style>\n",
       "<table border=\"1\" class=\"dataframe\">\n",
       "  <thead>\n",
       "    <tr style=\"text-align: right;\">\n",
       "      <th>Ticker</th>\n",
       "      <th>BRL=X</th>\n",
       "      <th>^BVSP</th>\n",
       "      <th>^GSPC</th>\n",
       "    </tr>\n",
       "    <tr>\n",
       "      <th>Date</th>\n",
       "      <th></th>\n",
       "      <th></th>\n",
       "      <th></th>\n",
       "    </tr>\n",
       "  </thead>\n",
       "  <tbody>\n",
       "    <tr>\n",
       "      <th>2024-03-11 00:00:00+00:00</th>\n",
       "      <td>4.97754</td>\n",
       "      <td>126124.0000</td>\n",
       "      <td>5117.939941</td>\n",
       "    </tr>\n",
       "    <tr>\n",
       "      <th>2024-03-12 00:00:00+00:00</th>\n",
       "      <td>4.97740</td>\n",
       "      <td>127668.0000</td>\n",
       "      <td>5175.270020</td>\n",
       "    </tr>\n",
       "    <tr>\n",
       "      <th>2024-03-13 00:00:00+00:00</th>\n",
       "      <td>4.96870</td>\n",
       "      <td>128006.0000</td>\n",
       "      <td>5165.310059</td>\n",
       "    </tr>\n",
       "    <tr>\n",
       "      <th>2024-03-14 00:00:00+00:00</th>\n",
       "      <td>4.96920</td>\n",
       "      <td>127690.0000</td>\n",
       "      <td>5150.479980</td>\n",
       "    </tr>\n",
       "    <tr>\n",
       "      <th>2024-03-15 00:00:00+00:00</th>\n",
       "      <td>4.99270</td>\n",
       "      <td>126742.0000</td>\n",
       "      <td>5117.089844</td>\n",
       "    </tr>\n",
       "    <tr>\n",
       "      <th>...</th>\n",
       "      <td>...</td>\n",
       "      <td>...</td>\n",
       "      <td>...</td>\n",
       "    </tr>\n",
       "    <tr>\n",
       "      <th>2024-09-03 00:00:00+00:00</th>\n",
       "      <td>5.61510</td>\n",
       "      <td>134353.0000</td>\n",
       "      <td>5528.930176</td>\n",
       "    </tr>\n",
       "    <tr>\n",
       "      <th>2024-09-04 00:00:00+00:00</th>\n",
       "      <td>5.64750</td>\n",
       "      <td>136111.0000</td>\n",
       "      <td>5520.069824</td>\n",
       "    </tr>\n",
       "    <tr>\n",
       "      <th>2024-09-05 00:00:00+00:00</th>\n",
       "      <td>5.64200</td>\n",
       "      <td>136502.0000</td>\n",
       "      <td>5503.410156</td>\n",
       "    </tr>\n",
       "    <tr>\n",
       "      <th>2024-09-06 00:00:00+00:00</th>\n",
       "      <td>5.56750</td>\n",
       "      <td>134572.0000</td>\n",
       "      <td>5408.419922</td>\n",
       "    </tr>\n",
       "    <tr>\n",
       "      <th>2024-09-09 00:00:00+00:00</th>\n",
       "      <td>5.58870</td>\n",
       "      <td>134837.9375</td>\n",
       "      <td>5451.500000</td>\n",
       "    </tr>\n",
       "  </tbody>\n",
       "</table>\n",
       "<p>124 rows × 3 columns</p>\n",
       "</div>"
      ],
      "text/plain": [
       "Ticker                       BRL=X        ^BVSP        ^GSPC\n",
       "Date                                                        \n",
       "2024-03-11 00:00:00+00:00  4.97754  126124.0000  5117.939941\n",
       "2024-03-12 00:00:00+00:00  4.97740  127668.0000  5175.270020\n",
       "2024-03-13 00:00:00+00:00  4.96870  128006.0000  5165.310059\n",
       "2024-03-14 00:00:00+00:00  4.96920  127690.0000  5150.479980\n",
       "2024-03-15 00:00:00+00:00  4.99270  126742.0000  5117.089844\n",
       "...                            ...          ...          ...\n",
       "2024-09-03 00:00:00+00:00  5.61510  134353.0000  5528.930176\n",
       "2024-09-04 00:00:00+00:00  5.64750  136111.0000  5520.069824\n",
       "2024-09-05 00:00:00+00:00  5.64200  136502.0000  5503.410156\n",
       "2024-09-06 00:00:00+00:00  5.56750  134572.0000  5408.419922\n",
       "2024-09-09 00:00:00+00:00  5.58870  134837.9375  5451.500000\n",
       "\n",
       "[124 rows x 3 columns]"
      ]
     },
     "execution_count": 5,
     "metadata": {},
     "output_type": "execute_result"
    }
   ],
   "source": [
    "dados_mercado = dados_mercado.dropna()\n",
    "dados_mercado"
   ]
  },
  {
   "cell_type": "code",
   "execution_count": 6,
   "metadata": {
    "colab": {
     "base_uri": "https://localhost:8080/",
     "height": 455
    },
    "executionInfo": {
     "elapsed": 304,
     "status": "ok",
     "timestamp": 1725895749206,
     "user": {
      "displayName": "Kauan Siuva",
      "userId": "10381737464008352044"
     },
     "user_tz": 180
    },
    "id": "rdCowCWoZmAP",
    "outputId": "ae29e7f4-1600-46cf-f6d0-387d95a181f1"
   },
   "outputs": [
    {
     "data": {
      "text/html": [
       "<div>\n",
       "<style scoped>\n",
       "    .dataframe tbody tr th:only-of-type {\n",
       "        vertical-align: middle;\n",
       "    }\n",
       "\n",
       "    .dataframe tbody tr th {\n",
       "        vertical-align: top;\n",
       "    }\n",
       "\n",
       "    .dataframe thead th {\n",
       "        text-align: right;\n",
       "    }\n",
       "</style>\n",
       "<table border=\"1\" class=\"dataframe\">\n",
       "  <thead>\n",
       "    <tr style=\"text-align: right;\">\n",
       "      <th></th>\n",
       "      <th>DOLAR</th>\n",
       "      <th>IBOVESPA</th>\n",
       "      <th>S&amp;P500</th>\n",
       "    </tr>\n",
       "    <tr>\n",
       "      <th>Date</th>\n",
       "      <th></th>\n",
       "      <th></th>\n",
       "      <th></th>\n",
       "    </tr>\n",
       "  </thead>\n",
       "  <tbody>\n",
       "    <tr>\n",
       "      <th>2024-03-11 00:00:00+00:00</th>\n",
       "      <td>4.97754</td>\n",
       "      <td>126124.0000</td>\n",
       "      <td>5117.939941</td>\n",
       "    </tr>\n",
       "    <tr>\n",
       "      <th>2024-03-12 00:00:00+00:00</th>\n",
       "      <td>4.97740</td>\n",
       "      <td>127668.0000</td>\n",
       "      <td>5175.270020</td>\n",
       "    </tr>\n",
       "    <tr>\n",
       "      <th>2024-03-13 00:00:00+00:00</th>\n",
       "      <td>4.96870</td>\n",
       "      <td>128006.0000</td>\n",
       "      <td>5165.310059</td>\n",
       "    </tr>\n",
       "    <tr>\n",
       "      <th>2024-03-14 00:00:00+00:00</th>\n",
       "      <td>4.96920</td>\n",
       "      <td>127690.0000</td>\n",
       "      <td>5150.479980</td>\n",
       "    </tr>\n",
       "    <tr>\n",
       "      <th>2024-03-15 00:00:00+00:00</th>\n",
       "      <td>4.99270</td>\n",
       "      <td>126742.0000</td>\n",
       "      <td>5117.089844</td>\n",
       "    </tr>\n",
       "    <tr>\n",
       "      <th>...</th>\n",
       "      <td>...</td>\n",
       "      <td>...</td>\n",
       "      <td>...</td>\n",
       "    </tr>\n",
       "    <tr>\n",
       "      <th>2024-09-03 00:00:00+00:00</th>\n",
       "      <td>5.61510</td>\n",
       "      <td>134353.0000</td>\n",
       "      <td>5528.930176</td>\n",
       "    </tr>\n",
       "    <tr>\n",
       "      <th>2024-09-04 00:00:00+00:00</th>\n",
       "      <td>5.64750</td>\n",
       "      <td>136111.0000</td>\n",
       "      <td>5520.069824</td>\n",
       "    </tr>\n",
       "    <tr>\n",
       "      <th>2024-09-05 00:00:00+00:00</th>\n",
       "      <td>5.64200</td>\n",
       "      <td>136502.0000</td>\n",
       "      <td>5503.410156</td>\n",
       "    </tr>\n",
       "    <tr>\n",
       "      <th>2024-09-06 00:00:00+00:00</th>\n",
       "      <td>5.56750</td>\n",
       "      <td>134572.0000</td>\n",
       "      <td>5408.419922</td>\n",
       "    </tr>\n",
       "    <tr>\n",
       "      <th>2024-09-09 00:00:00+00:00</th>\n",
       "      <td>5.58870</td>\n",
       "      <td>134837.9375</td>\n",
       "      <td>5451.500000</td>\n",
       "    </tr>\n",
       "  </tbody>\n",
       "</table>\n",
       "<p>124 rows × 3 columns</p>\n",
       "</div>"
      ],
      "text/plain": [
       "                             DOLAR     IBOVESPA       S&P500\n",
       "Date                                                        \n",
       "2024-03-11 00:00:00+00:00  4.97754  126124.0000  5117.939941\n",
       "2024-03-12 00:00:00+00:00  4.97740  127668.0000  5175.270020\n",
       "2024-03-13 00:00:00+00:00  4.96870  128006.0000  5165.310059\n",
       "2024-03-14 00:00:00+00:00  4.96920  127690.0000  5150.479980\n",
       "2024-03-15 00:00:00+00:00  4.99270  126742.0000  5117.089844\n",
       "...                            ...          ...          ...\n",
       "2024-09-03 00:00:00+00:00  5.61510  134353.0000  5528.930176\n",
       "2024-09-04 00:00:00+00:00  5.64750  136111.0000  5520.069824\n",
       "2024-09-05 00:00:00+00:00  5.64200  136502.0000  5503.410156\n",
       "2024-09-06 00:00:00+00:00  5.56750  134572.0000  5408.419922\n",
       "2024-09-09 00:00:00+00:00  5.58870  134837.9375  5451.500000\n",
       "\n",
       "[124 rows x 3 columns]"
      ]
     },
     "execution_count": 6,
     "metadata": {},
     "output_type": "execute_result"
    }
   ],
   "source": [
    "dados_mercado.columns = [\"DOLAR\", \"IBOVESPA\", \"S&P500\"]\n",
    "dados_mercado"
   ]
  },
  {
   "cell_type": "markdown",
   "metadata": {
    "id": "LZ_fX0PN9c26"
   },
   "source": [
    "##Passo 4 - Criar gráficos de performance"
   ]
  },
  {
   "cell_type": "code",
   "execution_count": 7,
   "metadata": {
    "executionInfo": {
     "elapsed": 270,
     "status": "ok",
     "timestamp": 1725895810733,
     "user": {
      "displayName": "Kauan Siuva",
      "userId": "10381737464008352044"
     },
     "user_tz": 180
    },
    "id": "SXe6rPCI9gcA"
   },
   "outputs": [],
   "source": [
    "plt.style.use(\"cyberpunk\")"
   ]
  },
  {
   "cell_type": "code",
   "execution_count": 8,
   "metadata": {
    "colab": {
     "base_uri": "https://localhost:8080/",
     "height": 445
    },
    "executionInfo": {
     "elapsed": 1326,
     "status": "ok",
     "timestamp": 1725896224984,
     "user": {
      "displayName": "Kauan Siuva",
      "userId": "10381737464008352044"
     },
     "user_tz": 180
    },
    "id": "F_fYDjXzaCb9",
    "outputId": "25fed156-d09e-4ea3-88c8-993807348293"
   },
   "outputs": [
    {
     "data": {
      "image/png": "[encoded data removed]",
      "text/plain": [
       "<Figure size 640x480 with 1 Axes>"
      ]
     },
     "metadata": {},
     "output_type": "display_data"
    }
   ],
   "source": [
    "plt.plot(dados_mercado[\"IBOVESPA\"])\n",
    "plt.title(\"IBOVESPA\")\n",
    "\n",
    "plt.savefig(\"ibovespa.png\")"
   ]
  },
  {
   "cell_type": "code",
   "execution_count": 9,
   "metadata": {
    "colab": {
     "base_uri": "https://localhost:8080/",
     "height": 445
    },
    "executionInfo": {
     "elapsed": 716,
     "status": "ok",
     "timestamp": 1725896281713,
     "user": {
      "displayName": "Kauan Siuva",
      "userId": "10381737464008352044"
     },
     "user_tz": 180
    },
    "id": "osGjnML9aDWc",
    "outputId": "9ead5e9a-2d52-4b94-dd02-d98d39e35dec"
   },
   "outputs": [
    {
     "data": {
      "image/png": "[encoded data removed]",
      "text/plain": [
       "<Figure size 640x480 with 1 Axes>"
      ]
     },
     "metadata": {},
     "output_type": "display_data"
    }
   ],
   "source": [
    "plt.plot(dados_mercado[\"DOLAR\"])\n",
    "plt.title(\"DOLAR\")\n",
    "\n",
    "plt.savefig(\"dolar.png\")"
   ]
  },
  {
   "cell_type": "code",
   "execution_count": 10,
   "metadata": {
    "colab": {
     "base_uri": "https://localhost:8080/",
     "height": 445
    },
    "executionInfo": {
     "elapsed": 772,
     "status": "ok",
     "timestamp": 1725896311505,
     "user": {
      "displayName": "Kauan Siuva",
      "userId": "10381737464008352044"
     },
     "user_tz": 180
    },
    "id": "Gg03ANAjaDLF",
    "outputId": "28e3e4af-70ed-4876-d5f9-80d5d4a80e39"
   },
   "outputs": [
    {
     "data": {
      "image/png": "[encoded data removed]",
      "text/plain": [
       "<Figure size 640x480 with 1 Axes>"
      ]
     },
     "metadata": {},
     "output_type": "display_data"
    }
   ],
   "source": [
    "plt.plot(dados_mercado[\"S&P500\"])\n",
    "plt.title(\"S&P500\")\n",
    "\n",
    "plt.savefig(\"sp500.png\")"
   ]
  },
  {
   "cell_type": "markdown",
   "metadata": {
    "id": "UQV9OSZd9gvK"
   },
   "source": [
    "##Passo 5 - Calcular retornos diários"
   ]
  },
  {
   "cell_type": "code",
   "execution_count": 11,
   "metadata": {
    "colab": {
     "base_uri": "https://localhost:8080/",
     "height": 455
    },
    "executionInfo": {
     "elapsed": 310,
     "status": "ok",
     "timestamp": 1725896538808,
     "user": {
      "displayName": "Kauan Siuva",
      "userId": "10381737464008352044"
     },
     "user_tz": 180
    },
    "id": "Zy4eThcd9jnM",
    "outputId": "78bf8a37-6986-4bfe-b6bb-c5b36223e18c"
   },
   "outputs": [
    {
     "data": {
      "text/html": [
       "<div>\n",
       "<style scoped>\n",
       "    .dataframe tbody tr th:only-of-type {\n",
       "        vertical-align: middle;\n",
       "    }\n",
       "\n",
       "    .dataframe tbody tr th {\n",
       "        vertical-align: top;\n",
       "    }\n",
       "\n",
       "    .dataframe thead th {\n",
       "        text-align: right;\n",
       "    }\n",
       "</style>\n",
       "<table border=\"1\" class=\"dataframe\">\n",
       "  <thead>\n",
       "    <tr style=\"text-align: right;\">\n",
       "      <th></th>\n",
       "      <th>DOLAR</th>\n",
       "      <th>IBOVESPA</th>\n",
       "      <th>S&amp;P500</th>\n",
       "    </tr>\n",
       "    <tr>\n",
       "      <th>Date</th>\n",
       "      <th></th>\n",
       "      <th></th>\n",
       "      <th></th>\n",
       "    </tr>\n",
       "  </thead>\n",
       "  <tbody>\n",
       "    <tr>\n",
       "      <th>2024-03-11 00:00:00+00:00</th>\n",
       "      <td>NaN</td>\n",
       "      <td>NaN</td>\n",
       "      <td>NaN</td>\n",
       "    </tr>\n",
       "    <tr>\n",
       "      <th>2024-03-12 00:00:00+00:00</th>\n",
       "      <td>-0.000028</td>\n",
       "      <td>0.012242</td>\n",
       "      <td>0.011202</td>\n",
       "    </tr>\n",
       "    <tr>\n",
       "      <th>2024-03-13 00:00:00+00:00</th>\n",
       "      <td>-0.001748</td>\n",
       "      <td>0.002647</td>\n",
       "      <td>-0.001925</td>\n",
       "    </tr>\n",
       "    <tr>\n",
       "      <th>2024-03-14 00:00:00+00:00</th>\n",
       "      <td>0.000101</td>\n",
       "      <td>-0.002469</td>\n",
       "      <td>-0.002871</td>\n",
       "    </tr>\n",
       "    <tr>\n",
       "      <th>2024-03-15 00:00:00+00:00</th>\n",
       "      <td>0.004729</td>\n",
       "      <td>-0.007424</td>\n",
       "      <td>-0.006483</td>\n",
       "    </tr>\n",
       "    <tr>\n",
       "      <th>...</th>\n",
       "      <td>...</td>\n",
       "      <td>...</td>\n",
       "      <td>...</td>\n",
       "    </tr>\n",
       "    <tr>\n",
       "      <th>2024-09-03 00:00:00+00:00</th>\n",
       "      <td>-0.002239</td>\n",
       "      <td>-0.012139</td>\n",
       "      <td>-0.021151</td>\n",
       "    </tr>\n",
       "    <tr>\n",
       "      <th>2024-09-04 00:00:00+00:00</th>\n",
       "      <td>0.005770</td>\n",
       "      <td>0.013085</td>\n",
       "      <td>-0.001603</td>\n",
       "    </tr>\n",
       "    <tr>\n",
       "      <th>2024-09-05 00:00:00+00:00</th>\n",
       "      <td>-0.000974</td>\n",
       "      <td>0.002873</td>\n",
       "      <td>-0.003018</td>\n",
       "    </tr>\n",
       "    <tr>\n",
       "      <th>2024-09-06 00:00:00+00:00</th>\n",
       "      <td>-0.013205</td>\n",
       "      <td>-0.014139</td>\n",
       "      <td>-0.017260</td>\n",
       "    </tr>\n",
       "    <tr>\n",
       "      <th>2024-09-09 00:00:00+00:00</th>\n",
       "      <td>0.003808</td>\n",
       "      <td>0.001976</td>\n",
       "      <td>0.007965</td>\n",
       "    </tr>\n",
       "  </tbody>\n",
       "</table>\n",
       "<p>124 rows × 3 columns</p>\n",
       "</div>"
      ],
      "text/plain": [
       "                              DOLAR  IBOVESPA    S&P500\n",
       "Date                                                   \n",
       "2024-03-11 00:00:00+00:00       NaN       NaN       NaN\n",
       "2024-03-12 00:00:00+00:00 -0.000028  0.012242  0.011202\n",
       "2024-03-13 00:00:00+00:00 -0.001748  0.002647 -0.001925\n",
       "2024-03-14 00:00:00+00:00  0.000101 -0.002469 -0.002871\n",
       "2024-03-15 00:00:00+00:00  0.004729 -0.007424 -0.006483\n",
       "...                             ...       ...       ...\n",
       "2024-09-03 00:00:00+00:00 -0.002239 -0.012139 -0.021151\n",
       "2024-09-04 00:00:00+00:00  0.005770  0.013085 -0.001603\n",
       "2024-09-05 00:00:00+00:00 -0.000974  0.002873 -0.003018\n",
       "2024-09-06 00:00:00+00:00 -0.013205 -0.014139 -0.017260\n",
       "2024-09-09 00:00:00+00:00  0.003808  0.001976  0.007965\n",
       "\n",
       "[124 rows x 3 columns]"
      ]
     },
     "execution_count": 11,
     "metadata": {},
     "output_type": "execute_result"
    }
   ],
   "source": [
    "retornos_diarios = dados_mercado.pct_change()\n",
    "retornos_diarios"
   ]
  },
  {
   "cell_type": "code",
   "execution_count": 12,
   "metadata": {
    "executionInfo": {
     "elapsed": 298,
     "status": "ok",
     "timestamp": 1725896704874,
     "user": {
      "displayName": "Kauan Siuva",
      "userId": "10381737464008352044"
     },
     "user_tz": 180
    },
    "id": "g9jM72nwcmHB"
   },
   "outputs": [],
   "source": [
    "retorno_dolar = retornos_diarios['DOLAR'].iloc[-1]\n",
    "retorno_ibovespa = retornos_diarios['IBOVESPA'].iloc[-1]\n",
    "retorno_sp = retornos_diarios['S&P500'].iloc[-1]"
   ]
  },
  {
   "cell_type": "code",
   "execution_count": 13,
   "metadata": {
    "colab": {
     "base_uri": "https://localhost:8080/",
     "height": 35
    },
    "executionInfo": {
     "elapsed": 298,
     "status": "ok",
     "timestamp": 1725896846442,
     "user": {
      "displayName": "Kauan Siuva",
      "userId": "10381737464008352044"
     },
     "user_tz": 180
    },
    "id": "tG_PQcSXcl-2",
    "outputId": "d4af5984-4d19-488e-a2ce-3de45c2a76a5"
   },
   "outputs": [
    {
     "data": {
      "text/plain": [
       "'0.8%'"
      ]
     },
     "execution_count": 13,
     "metadata": {},
     "output_type": "execute_result"
    }
   ],
   "source": [
    "retorno_dolar = str(round(retorno_dolar * 100,2)) + \"%\"\n",
    "retorno_ibovespa = str(round(retorno_ibovespa * 100,2)) + \"%\"\n",
    "retorno_sp = str(round(retorno_sp * 100,2)) + \"%\"\n",
    "retorno_sp"
   ]
  },
  {
   "cell_type": "code",
   "execution_count": 14,
   "metadata": {
    "colab": {
     "base_uri": "https://localhost:8080/",
     "height": 35
    },
    "executionInfo": {
     "elapsed": 278,
     "status": "ok",
     "timestamp": 1725896852719,
     "user": {
      "displayName": "Kauan Siuva",
      "userId": "10381737464008352044"
     },
     "user_tz": 180
    },
    "id": "nLyxzbfhcl46",
    "outputId": "fa149e4a-8f7b-4b1b-e068-f9b08847f14a"
   },
   "outputs": [
    {
     "data": {
      "text/plain": [
       "'0.2%'"
      ]
     },
     "execution_count": 14,
     "metadata": {},
     "output_type": "execute_result"
    }
   ],
   "source": [
    "retorno_ibovespa"
   ]
  },
  {
   "cell_type": "code",
   "execution_count": 15,
   "metadata": {
    "colab": {
     "base_uri": "https://localhost:8080/",
     "height": 35
    },
    "executionInfo": {
     "elapsed": 312,
     "status": "ok",
     "timestamp": 1725896860994,
     "user": {
      "displayName": "Kauan Siuva",
      "userId": "10381737464008352044"
     },
     "user_tz": 180
    },
    "id": "yBylcnqaeBDN",
    "outputId": "5ad386ed-4bfb-4bcf-9143-fc7e7c718106"
   },
   "outputs": [
    {
     "data": {
      "text/plain": [
       "'0.38%'"
      ]
     },
     "execution_count": 15,
     "metadata": {},
     "output_type": "execute_result"
    }
   ],
   "source": [
    "retorno_dolar"
   ]
  },
  {
   "cell_type": "markdown",
   "metadata": {
    "id": "seS_o0GQ9kFY"
   },
   "source": [
    "##Passo 6 - Configurar e enviar o e-mail"
   ]
  },
  {
   "cell_type": "code",
   "execution_count": 20,
   "metadata": {
    "id": "C6LEuAUReSU_"
   },
   "outputs": [],
   "source": [
    "import win32com.client as win32"
   ]
  },
  {
   "cell_type": "code",
   "execution_count": 27,
   "metadata": {},
   "outputs": [],
   "source": [
    "outlook = win32.Dispatch(\"outlook.application\")\n",
    "\n",
    "email = outlook.CreateItem(0)"
   ]
  },
  {
   "cell_type": "code",
   "execution_count": 28,
   "metadata": {},
   "outputs": [],
   "source": [
    "email.To = \"evento@varos.com.br\"\n",
    "email.Subject = \"Relatório de Mercado\"\n",
    "email.body = f'''Prezado diretor, segue o relatório de mercado:\n",
    "\n",
    "* O Ibovespa teve o retorno de {retorno_ibovespa}.\n",
    "* O Dólar teve o retorno de {retorno_dolar}.\n",
    "* O S&P500 teve o retorno de {retorno_sp}.\n",
    "\n",
    "Segue em anexo a perfomance dos ativos nos últimos 6 meses.\n",
    "\n",
    "Att,\n",
    "Kauan da Silva.\n",
    "    \n",
    "'''\n",
    "\n",
    "anexo_ibovespa = r\"C:\\Users\\nauak\\Documents\\Estudo\\Python\\envio_de_relatorio\\ibovespa.png\"\n",
    "anexo_dolar = r\"C:\\Users\\nauak\\Documents\\Estudo\\Python\\envio_de_relatorio\\dolar.png\"\n",
    "anexo_sp = r\"C:\\Users\\nauak\\Documents\\Estudo\\Python\\envio_de_relatorio\\sp500.png\"\n",
    "\n",
    "email.Attachments.Add(anexo_ibovespa)\n",
    "email.Attachments.Add(anexo_dolar)\n",
    "email.Attachments.Add(anexo_sp)\n",
    "\n",
    "email.Send()"
   ]
  },
  {
   "cell_type": "code",
   "execution_count": null,
   "metadata": {},
   "outputs": [],
   "source": []
  }
 ],
 "metadata": {
  "colab": {
   "authorship_tag": "ABX9TyOH0bkOV0lNX1NqapeWGoYH",
   "provenance": []
  },
  "kernelspec": {
   "display_name": "Python 3 (ipykernel)",
   "language": "python",
   "name": "python3"
  },
  "language_info": {
   "codemirror_mode": {
    "name": "ipython",
    "version": 3
   },
   "file_extension": ".py",
   "mimetype": "text/x-python",
   "name": "python",
   "nbconvert_exporter": "python",
   "pygments_lexer": "ipython3",
   "version": "3.10.9"
  }
 },
 "nbformat": 4,
 "nbformat_minor": 1
}
